{
  "nbformat": 4,
  "nbformat_minor": 0,
  "metadata": {
    "colab": {
      "name": "BabyCry.ipynb",
      "provenance": [],
      "collapsed_sections": [],
      "toc_visible": true,
      "include_colab_link": true
    },
    "kernelspec": {
      "name": "python3",
      "display_name": "Python 3"
    }
  },
  "cells": [
    {
      "cell_type": "markdown",
      "metadata": {
        "id": "view-in-github",
        "colab_type": "text"
      },
      "source": [
        "<a href=\"https://colab.research.google.com/github/leandrolrs18/Detec-oChoroBebe/blob/main/BabyCry.ipynb\" target=\"_parent\"><img src=\"https://colab.research.google.com/assets/colab-badge.svg\" alt=\"Open In Colab\"/></a>"
      ]
    },
    {
      "cell_type": "markdown",
      "metadata": {
        "id": "Bui7ja3Dhveh"
      },
      "source": [
        "#Adicionando as Bibliotecas"
      ]
    },
    {
      "cell_type": "code",
      "metadata": {
        "id": "esNL0vmqh1B-",
        "colab": {
          "base_uri": "https://localhost:8080/",
          "height": 139
        },
        "outputId": "98ecb91e-895f-49e7-925e-2acd86b22de2"
      },
      "source": [
        "!pip install soundfile\n",
        "import os\n",
        "import numpy as np\n",
        "import cv2\n",
        "from sklearn.model_selection import train_test_split\n",
        "from sklearn import preprocessing\n",
        "import matplotlib.pyplot as plt \n",
        "import soundfile as sf\n",
        "from sklearn import preprocessing\n"
      ],
      "execution_count": null,
      "outputs": [
        {
          "output_type": "stream",
          "text": [
            "Collecting soundfile\n",
            "  Downloading https://files.pythonhosted.org/packages/eb/f2/3cbbbf3b96fb9fa91582c438b574cff3f45b29c772f94c400e2c99ef5db9/SoundFile-0.10.3.post1-py2.py3-none-any.whl\n",
            "Requirement already satisfied: cffi>=1.0 in /usr/local/lib/python3.6/dist-packages (from soundfile) (1.13.2)\n",
            "Requirement already satisfied: pycparser in /usr/local/lib/python3.6/dist-packages (from cffi>=1.0->soundfile) (2.19)\n",
            "Installing collected packages: soundfile\n",
            "Successfully installed soundfile-0.10.3.post1\n"
          ],
          "name": "stdout"
        }
      ]
    },
    {
      "cell_type": "markdown",
      "metadata": {
        "id": "Dhg-1jTUiORS"
      },
      "source": [
        "#Extraindo as pastas: crying baby, silence, noise e baby laugh\n"
      ]
    },
    {
      "cell_type": "code",
      "metadata": {
        "id": "qmk9pbUribDy",
        "colab": {
          "base_uri": "https://localhost:8080/",
          "height": 1000
        },
        "outputId": "59097042-1adb-4af9-e415-c0c9b3a6aa29"
      },
      "source": [
        "!unzip crying.zip "
      ],
      "execution_count": null,
      "outputs": [
        {
          "output_type": "stream",
          "text": [
            "Archive:  crying.zip\n",
            "  inflating: crying/V_2017-04-01+08_06_22=0_30.mp3_16.wav  \n",
            "  inflating: crying/V_2017-04-01+08_06_22=0_30.mp3_12.wav  \n",
            "  inflating: crying/V_2017-04-01+08_06_22=0_30.mp3_23.wav  \n",
            "  inflating: crying/V_2017-04-01+08_06_22=0_30.mp3_14.wav  \n",
            "  inflating: crying/V_2017-04-01+08_06_22=0_30.mp3_9.wav  \n",
            "  inflating: crying/V_2017-04-01+08_06_22=0_30.mp3_18.wav  \n",
            "  inflating: crying/V_2017-04-01+08_06_22=0_30.mp3_2.wav  \n",
            "  inflating: crying/V_2017-04-01+08_06_22=0_30.mp3_22.wav  \n",
            "  inflating: crying/V_2017-04-01+08_06_22=0_30.mp3_8.wav  \n",
            "  inflating: crying/V_2017-04-01+08_06_22=0_30.mp3_24.wav  \n",
            "  inflating: crying/V_2017-04-01+08_06_22=0_30.mp3_1.wav  \n",
            "  inflating: crying/V_2017-04-01+08_06_22=0_30.mp3_4.wav  \n",
            "  inflating: crying/V_2017-04-01+08_06_22=0_30.mp3_7.wav  \n",
            "  inflating: crying/V_2017-04-01+08_06_22=0_30.mp3_25.wav  \n",
            "  inflating: crying/V_2017-04-01+08_06_22=0_30.mp3_5.wav  \n",
            "  inflating: crying/V_2017-04-01+08_06_22=0_30.mp3_6.wav  \n",
            "  inflating: crying/V_2017-04-01+08_06_22=0_30.mp3_13.wav  \n",
            "  inflating: crying/margot.m4a_8.wav  \n",
            "  inflating: crying/V_2017-04-01+08_06_22=0_30.mp3_21.wav  \n",
            "  inflating: crying/V_2017-04-01+08_06_22=0_30.mp3_15.wav  \n",
            "  inflating: crying/margot.m4a_7.wav  \n",
            "  inflating: crying/V_2017-04-01+08_06_22=0_30.mp3_3.wav  \n",
            "  inflating: crying/1-22694-B.ogg    \n",
            "  inflating: crying/Louise_01.m4a_3.wav  \n",
            "  inflating: crying/Louise_01.m4a_9.wav  \n",
            "  inflating: crying/V_2017-04-01+08_06_22=0_30.mp3_20.wav  \n",
            "  inflating: crying/margot.m4a_6.wav  \n",
            "  inflating: crying/margot.m4a_1.wav  \n",
            "  inflating: crying/V_2017-04-01+08_06_22=0_30.mp3_19.wav  \n",
            "  inflating: crying/margot.m4a_21.wav  \n",
            "  inflating: crying/4-167077-A.ogg   \n",
            "  inflating: crying/1-211527-B.ogg   \n",
            "  inflating: crying/margot.m4a_9.wav  \n",
            "  inflating: crying/2-66637-A.ogg    \n",
            "  inflating: crying/margot.m4a_19.wav  \n",
            "  inflating: crying/margot.m4a_5.wav  \n",
            "  inflating: crying/5-198411-A.ogg   \n",
            "  inflating: crying/margot.m4a_26.wav  \n",
            "  inflating: crying/3-152007-D.ogg   \n",
            "  inflating: crying/1-60997-B.ogg    \n",
            "  inflating: crying/1-187207-A.ogg   \n",
            "  inflating: crying/5-198411-C.ogg   \n",
            "  inflating: crying/3-152007-B.ogg   \n",
            "  inflating: crying/margot.m4a_13.wav  \n",
            "  inflating: crying/1-60997-A.ogg    \n",
            "  inflating: crying/2-50665-A.ogg    \n",
            "  inflating: crying/Louise_01.m4a_4.wav  \n",
            "  inflating: crying/2-66637-B.ogg    \n",
            "  inflating: crying/margot.m4a_12.wav  \n",
            "  inflating: crying/5-198411-F.ogg   \n",
            "  inflating: crying/margot.m4a_20.wav  \n",
            "  inflating: crying/V_2017-04-01+08_06_22=0_30.mp3_17.wav  \n",
            "  inflating: crying/1-211527-A.ogg   \n",
            "  inflating: crying/Louise_01.m4a_8.wav  \n",
            "  inflating: crying/1-211527-C.ogg   \n",
            "  inflating: crying/5-198411-B.ogg   \n",
            "  inflating: crying/3-152007-E.ogg   \n",
            "  inflating: crying/Louise_01.m4a_13.wav  \n",
            "  inflating: crying/margot.m4a_23.wav  \n",
            "  inflating: crying/margot.m4a_24.wav  \n",
            "  inflating: crying/margot.m4a_15.wav  \n",
            "  inflating: crying/margot.m4a_14.wav  \n",
            "  inflating: crying/margot.m4a_22.wav  \n",
            "  inflating: crying/2-50666-A.ogg    \n",
            "  inflating: crying/1-22694-A.ogg    \n",
            "  inflating: crying/Louise_01.m4a_14.wav  \n",
            "  inflating: crying/2-80482-A.ogg    \n",
            "  inflating: crying/margot.m4a_2.wav  \n",
            "  inflating: crying/margot.m4a_11.wav  \n",
            "  inflating: crying/margot.m4a_3.wav  \n",
            "  inflating: crying/margot.m4a_25.wav  \n",
            "  inflating: crying/margot.m4a_10.wav  \n",
            "  inflating: crying/margot.m4a_4.wav  \n",
            "  inflating: crying/5-198411-G.ogg   \n",
            "  inflating: crying/V_2017-04-01+08_06_22=0_30.mp3_0.wav  \n",
            "  inflating: crying/5-198411-D.ogg   \n",
            "  inflating: crying/4-59579-A.ogg    \n",
            "  inflating: crying/Louise_01.m4a_6.wav  \n",
            "  inflating: crying/2-107351-B.ogg   \n",
            "  inflating: crying/V_2017-04-01+08_06_22=0_30.mp3_10.wav  \n",
            "  inflating: crying/4-185575-B.ogg   \n",
            "  inflating: crying/Louise_01.m4a_12.wav  \n",
            "  inflating: crying/Louise_01.m4a_1.wav  \n",
            "  inflating: crying/3-151081-A.ogg   \n",
            "  inflating: crying/V_2017-04-01+08_06_22=0_30.mp3_11.wav  \n",
            "  inflating: crying/margot.m4a_0.wav  \n",
            "  inflating: crying/Louise_01.m4a_7.wav  \n",
            "  inflating: crying/margot.m4a_18.wav  \n",
            "  inflating: crying/Louise_01.m4a_2.wav  \n",
            "  inflating: crying/4-185575-C.ogg   \n",
            "  inflating: crying/2-151079-A.ogg   \n",
            "  inflating: crying/2-107351-A.ogg   \n",
            "  inflating: crying/5-198411-E.ogg   \n",
            "  inflating: crying/4-185575-A.ogg   \n",
            "  inflating: crying/margot.m4a_16.wav  \n",
            "  inflating: crying/margot.m4a_17.wav  \n",
            "  inflating: crying/3-151081-B.ogg   \n",
            "  inflating: crying/Louise_01.m4a_5.wav  \n",
            "  inflating: crying/3-151080-A.ogg   \n",
            "  inflating: crying/Louise_01.m4a_0.wav  \n",
            "  inflating: crying/3-152007-A.ogg   \n",
            "  inflating: crying/Louise_01.m4a_10.wav  \n",
            "  inflating: crying/5-151085-A.ogg   \n",
            "  inflating: crying/3-152007-C.ogg   \n",
            "  inflating: crying/4-167077-C.ogg   \n",
            "  inflating: crying/4-59579-B.ogg    \n",
            "  inflating: crying/Louise_01.m4a_11.wav  \n",
            "  inflating: crying/4-167077-B.ogg   \n"
          ],
          "name": "stdout"
        }
      ]
    },
    {
      "cell_type": "code",
      "metadata": {
        "id": "IUuoKn16itwU",
        "colab": {
          "base_uri": "https://localhost:8080/",
          "height": 1000
        },
        "outputId": "fab2d23b-270e-4817-9064-d2574bcbb94c"
      },
      "source": [
        "!unzip silence.zip"
      ],
      "execution_count": null,
      "outputs": [
        {
          "output_type": "stream",
          "text": [
            "Archive:  silence.zip\n",
            "  inflating: silence/silence.wav_94.wav  \n",
            "  inflating: silence/silence.wav_95.wav  \n",
            "  inflating: silence/silence.wav_92.wav  \n",
            "  inflating: silence/silence.wav_99.wav  \n",
            "  inflating: silence/silence.wav_90.wav  \n",
            "  inflating: silence/silence.wav_93.wav  \n",
            "  inflating: silence/silence.wav_77.wav  \n",
            "  inflating: silence/silence.wav_89.wav  \n",
            "  inflating: silence/silence.wav_87.wav  \n",
            "  inflating: silence/silence.wav_98.wav  \n",
            "  inflating: silence/silence.wav_86.wav  \n",
            "  inflating: silence/silence.wav_96.wav  \n",
            "  inflating: silence/silence.wav_83.wav  \n",
            "  inflating: silence/silence.wav_84.wav  \n",
            "  inflating: silence/silence.wav_85.wav  \n",
            "  inflating: silence/silence.wav_82.wav  \n",
            "  inflating: silence/silence.wav_91.wav  \n",
            "  inflating: silence/silence.wav_9.wav  \n",
            "  inflating: silence/silence.wav_88.wav  \n",
            "  inflating: silence/silence.wav_97.wav  \n",
            "  inflating: silence/silence.wav_8.wav  \n",
            "  inflating: silence/silence.wav_80.wav  \n",
            "  inflating: silence/silence.wav_78.wav  \n",
            "  inflating: silence/silence.wav_76.wav  \n",
            "  inflating: silence/silence.wav_79.wav  \n",
            "  inflating: silence/silence.wav_75.wav  \n",
            "  inflating: silence/silence.wav_73.wav  \n",
            "  inflating: silence/silence.wav_71.wav  \n",
            "  inflating: silence/silence.wav_7.wav  \n",
            "  inflating: silence/silence.wav_72.wav  \n",
            "  inflating: silence/silence.wav_68.wav  \n",
            "  inflating: silence/silence.wav_74.wav  \n",
            "  inflating: silence/silence.wav_70.wav  \n",
            "  inflating: silence/silence.wav_69.wav  \n",
            "  inflating: silence/silence.wav_67.wav  \n",
            "  inflating: silence/silence.wav_65.wav  \n",
            "  inflating: silence/silence.wav_60.wav  \n",
            "  inflating: silence/silence.wav_63.wav  \n",
            "  inflating: silence/silence.wav_66.wav  \n",
            "  inflating: silence/silence.wav_59.wav  \n",
            "  inflating: silence/silence.wav_64.wav  \n",
            "  inflating: silence/silence.wav_52.wav  \n",
            "  inflating: silence/silence.wav_62.wav  \n",
            "  inflating: silence/silence.wav_61.wav  \n",
            "  inflating: silence/silence.wav_6.wav  \n",
            "  inflating: silence/silence.wav_55.wav  \n",
            "  inflating: silence/silence.wav_5.wav  \n",
            "  inflating: silence/silence.wav_50.wav  \n",
            "  inflating: silence/silence.wav_57.wav  \n",
            "  inflating: silence/silence.wav_44.wav  \n",
            "  inflating: silence/silence.wav_51.wav  \n",
            "  inflating: silence/silence.wav_56.wav  \n",
            "  inflating: silence/silence.wav_48.wav  \n",
            "  inflating: silence/silence.wav_49.wav  \n",
            "  inflating: silence/silence.wav_42.wav  \n",
            "  inflating: silence/silence.wav_45.wav  \n",
            "  inflating: silence/silence.wav_58.wav  \n",
            "  inflating: silence/silence.wav_47.wav  \n",
            "  inflating: silence/silence.wav_53.wav  \n",
            "  inflating: silence/silence.wav_41.wav  \n",
            "  inflating: silence/silence.wav_54.wav  \n",
            "  inflating: silence/silence.wav_37.wav  \n",
            "  inflating: silence/silence.wav_36.wav  \n",
            "  inflating: silence/silence.wav_46.wav  \n",
            "  inflating: silence/silence.wav_4.wav  \n",
            "  inflating: silence/silence.wav_40.wav  \n",
            "  inflating: silence/silence.wav_27.wav  \n",
            "  inflating: silence/silence.wav_39.wav  \n",
            "  inflating: silence/silence.wav_34.wav  \n",
            "  inflating: silence/silence.wav_28.wav  \n",
            "  inflating: silence/silence.wav_38.wav  \n",
            "  inflating: silence/silence.wav_30.wav  \n",
            "  inflating: silence/silence.wav_33.wav  \n",
            "  inflating: silence/silence.wav_31.wav  \n",
            "  inflating: silence/silence.wav_26.wav  \n",
            "  inflating: silence/silence.wav_3.wav  \n",
            "  inflating: silence/silence.wav_32.wav  \n",
            "  inflating: silence/silence.wav_25.wav  \n",
            "  inflating: silence/silence.wav_29.wav  \n",
            "  inflating: silence/silence.wav_43.wav  \n",
            "  inflating: silence/silence.wav_22.wav  \n",
            "  inflating: silence/silence.wav_17.wav  \n",
            "  inflating: silence/silence.wav_21.wav  \n",
            "  inflating: silence/silence.wav_2.wav  \n",
            "  inflating: silence/silence.wav_23.wav  \n",
            "  inflating: silence/silence.wav_104.wav  \n",
            "  inflating: silence/silence.wav_107.wav  \n",
            "  inflating: silence/silence.wav_16.wav  \n",
            "  inflating: silence/silence.wav_13.wav  \n",
            "  inflating: silence/silence.wav_14.wav  \n",
            "  inflating: silence/silence.wav_18.wav  \n",
            "  inflating: silence/silence.wav_24.wav  \n",
            "  inflating: silence/silence.wav_15.wav  \n",
            "  inflating: silence/silence.wav_101.wav  \n",
            "  inflating: silence/silence.wav_102.wav  \n",
            "  inflating: silence/silence.wav_20.wav  \n",
            "  inflating: silence/silence.wav_105.wav  \n",
            "  inflating: silence/silence.wav_11.wav  \n",
            "  inflating: silence/silence.wav_106.wav  \n",
            "  inflating: silence/silence.wav_0.wav  \n",
            "  inflating: silence/silence.wav_10.wav  \n",
            "  inflating: silence/silence.wav_1.wav  \n",
            "  inflating: silence/silence.wav_103.wav  \n",
            "  inflating: silence/silence.wav_100.wav  \n",
            "  inflating: silence/silence.wav_12.wav  \n",
            "  inflating: silence/silence.wav_35.wav  \n",
            "  inflating: silence/silence.wav_81.wav  \n",
            "  inflating: silence/silence.wav_19.wav  \n"
          ],
          "name": "stdout"
        }
      ]
    },
    {
      "cell_type": "code",
      "metadata": {
        "id": "dHU2Uo-ZOoQy",
        "colab": {
          "base_uri": "https://localhost:8080/",
          "height": 1000
        },
        "outputId": "ede76b7f-064e-4526-fbbe-01f7832932b5"
      },
      "source": [
        "!unzip laugh.zip"
      ],
      "execution_count": null,
      "outputs": [
        {
          "output_type": "stream",
          "text": [
            "Archive:  laugh.zip\n",
            "  inflating: 903 - Baby laugh/laugh_2.m4a_18.wav  \n",
            "  inflating: 903 - Baby laugh/laugh_1.m4a_53.wav  \n",
            "  inflating: 903 - Baby laugh/laugh_2.m4a_3.wav  \n",
            "  inflating: 903 - Baby laugh/laugh_1.m4a_50.wav  \n",
            "  inflating: 903 - Baby laugh/laugh_2.m4a_4.wav  \n",
            "  inflating: 903 - Baby laugh/laugh_2.m4a_19.wav  \n",
            "  inflating: 903 - Baby laugh/laugh_1.m4a_5.wav  \n",
            "  inflating: 903 - Baby laugh/laugh_2.m4a_2.wav  \n",
            "  inflating: 903 - Baby laugh/laugh_1.m4a_85.wav  \n",
            "  inflating: 903 - Baby laugh/laugh_2.m4a_14.wav  \n",
            "  inflating: 903 - Baby laugh/laugh_2.m4a_7.wav  \n",
            "  inflating: 903 - Baby laugh/laugh_2.m4a_8.wav  \n",
            "  inflating: 903 - Baby laugh/laugh_2.m4a_17.wav  \n",
            "  inflating: 903 - Baby laugh/laugh_2.m4a_12.wav  \n",
            "  inflating: 903 - Baby laugh/laugh_2.m4a_13.wav  \n",
            "  inflating: 903 - Baby laugh/laugh_1.m4a_51.wav  \n",
            "  inflating: 903 - Baby laugh/laugh_1.m4a_54.wav  \n",
            "  inflating: 903 - Baby laugh/laugh_2.m4a_5.wav  \n",
            "  inflating: 903 - Baby laugh/laugh_2.m4a_15.wav  \n",
            "  inflating: 903 - Baby laugh/laugh_2.m4a_16.wav  \n",
            "  inflating: 903 - Baby laugh/laugh_1.m4a_56.wav  \n",
            "  inflating: 903 - Baby laugh/laugh_1.m4a_57.wav  \n",
            "  inflating: 903 - Baby laugh/laugh_2.m4a_9.wav  \n",
            "  inflating: 903 - Baby laugh/laugh_1.m4a_59.wav  \n",
            "  inflating: 903 - Baby laugh/laugh_1.m4a_56(1).wav  \n",
            "  inflating: 903 - Baby laugh/laugh_1.m4a_71.wav  \n",
            "  inflating: 903 - Baby laugh/laugh_1.m4a_55.wav  \n",
            "  inflating: 903 - Baby laugh/laugh_1.m4a_48.wav  \n",
            "  inflating: 903 - Baby laugh/laugh_1.m4a_79.wav  \n",
            "  inflating: 903 - Baby laugh/laugh_1.m4a_29.wav  \n",
            "  inflating: 903 - Baby laugh/laugh_1.m4a_27.wav  \n",
            "  inflating: 903 - Baby laugh/laugh_1.m4a_8.wav  \n",
            "  inflating: 903 - Baby laugh/laugh_2.m4a_10.wav  \n",
            "  inflating: 903 - Baby laugh/laugh_1.m4a_86.wav  \n",
            "  inflating: 903 - Baby laugh/laugh_1.m4a_80.wav  \n",
            "  inflating: 903 - Baby laugh/laugh_1.m4a_60.wav  \n",
            "  inflating: 903 - Baby laugh/laugh_1.m4a_5(1).wav  \n",
            "  inflating: 903 - Baby laugh/laugh_1.m4a_57(1).wav  \n",
            "  inflating: 903 - Baby laugh/laugh_1.m4a_0.wav  \n",
            "  inflating: 903 - Baby laugh/laugh_1.m4a_73.wav  \n",
            "  inflating: 903 - Baby laugh/laugh_1.m4a_52.wav  \n",
            "  inflating: 903 - Baby laugh/laugh_1.m4a_54(1).wav  \n",
            "  inflating: 903 - Baby laugh/laugh_1.m4a_66.wav  \n",
            "  inflating: 903 - Baby laugh/laugh_1.m4a_19.wav  \n",
            "  inflating: 903 - Baby laugh/laugh_1.m4a_33.wav  \n",
            "  inflating: 903 - Baby laugh/laugh_1.m4a_6.wav  \n",
            "  inflating: 903 - Baby laugh/laugh_1.m4a_81.wav  \n",
            "  inflating: 903 - Baby laugh/laugh_1.m4a_50(1).wav  \n",
            "  inflating: 903 - Baby laugh/laugh_1.m4a_1.wav  \n",
            "  inflating: 903 - Baby laugh/laugh_1.m4a_69.wav  \n",
            "  inflating: 903 - Baby laugh/laugh_1.m4a_83.wav  \n",
            "  inflating: 903 - Baby laugh/laugh_1.m4a_21.wav  \n",
            "  inflating: 903 - Baby laugh/laugh_1.m4a_58.wav  \n",
            "  inflating: 903 - Baby laugh/laugh_1.m4a_87.wav  \n",
            "  inflating: 903 - Baby laugh/laugh_1.m4a_23.wav  \n",
            "  inflating: 903 - Baby laugh/laugh_1.m4a_22.wav  \n",
            "  inflating: 903 - Baby laugh/laugh_1.m4a_34.wav  \n",
            "  inflating: 903 - Baby laugh/laugh_1.m4a_26.wav  \n",
            "  inflating: 903 - Baby laugh/laugh_1.m4a_53(1).wav  \n",
            "  inflating: 903 - Baby laugh/laugh_1.m4a_36.wav  \n",
            "  inflating: 903 - Baby laugh/laugh_1.m4a_4.wav  \n",
            "  inflating: 903 - Baby laugh/laugh_1.m4a_20.wav  \n",
            "  inflating: 903 - Baby laugh/laugh_1.m4a_63.wav  \n",
            "  inflating: 903 - Baby laugh/laugh_1.m4a_7.wav  \n",
            "  inflating: 903 - Baby laugh/laugh_1.m4a_49.wav  \n",
            "  inflating: 903 - Baby laugh/laugh_1.m4a_78.wav  \n",
            "  inflating: 903 - Baby laugh/laugh_1.m4a_72.wav  \n",
            "  inflating: 903 - Baby laugh/laugh_1.m4a_47.wav  \n",
            "  inflating: 903 - Baby laugh/laugh_1.m4a_82.wav  \n",
            "  inflating: 903 - Baby laugh/laugh_1.m4a_77.wav  \n",
            "  inflating: 903 - Baby laugh/laugh_1.m4a_37.wav  \n",
            "  inflating: 903 - Baby laugh/laugh_1.m4a_39.wav  \n",
            "  inflating: 903 - Baby laugh/laugh_1.m4a_44.wav  \n",
            "  inflating: 903 - Baby laugh/laugh_1.m4a_61.wav  \n",
            "  inflating: 903 - Baby laugh/laugh_1.m4a_31.wav  \n",
            "  inflating: 903 - Baby laugh/laugh_2.m4a_0.wav  \n",
            "  inflating: 903 - Baby laugh/laugh_1.m4a_28.wav  \n",
            "  inflating: 903 - Baby laugh/laugh_1.m4a_3.wav  \n",
            "  inflating: 903 - Baby laugh/laugh_1.m4a_2.wav  \n",
            "  inflating: 903 - Baby laugh/laugh_1.m4a_11.wav  \n",
            "  inflating: 903 - Baby laugh/laugh_1.m4a_15.wav  \n",
            "  inflating: 903 - Baby laugh/laugh_1.m4a_75.wav  \n",
            "  inflating: 903 - Baby laugh/laugh_1.m4a_9.wav  \n",
            "  inflating: 903 - Baby laugh/laugh_1.m4a_10.wav  \n",
            "  inflating: 903 - Baby laugh/laugh_1.m4a_70.wav  \n",
            "  inflating: 903 - Baby laugh/laugh_1.m4a_38.wav  \n",
            "  inflating: 903 - Baby laugh/laugh_1.m4a_40.wav  \n",
            "  inflating: 903 - Baby laugh/laugh_1.m4a_62.wav  \n",
            "  inflating: 903 - Baby laugh/laugh_1.m4a_35.wav  \n",
            "  inflating: 903 - Baby laugh/laugh_1.m4a_14.wav  \n",
            "  inflating: 903 - Baby laugh/laugh_1.m4a_30.wav  \n",
            "  inflating: 903 - Baby laugh/laugh_1.m4a_68.wav  \n",
            "  inflating: 903 - Baby laugh/laugh_1.m4a_13.wav  \n",
            "  inflating: 903 - Baby laugh/laugh_1.m4a_25.wav  \n",
            "  inflating: 903 - Baby laugh/laugh_1.m4a_16.wav  \n",
            "  inflating: 903 - Baby laugh/laugh_1.m4a_43.wav  \n",
            "  inflating: 903 - Baby laugh/laugh_1.m4a_41.wav  \n",
            "  inflating: 903 - Baby laugh/laugh_1.m4a_84.wav  \n",
            "  inflating: 903 - Baby laugh/laugh_1.m4a_46.wav  \n",
            "  inflating: 903 - Baby laugh/laugh_1.m4a_74.wav  \n",
            "  inflating: 903 - Baby laugh/laugh_1.m4a_17.wav  \n",
            "  inflating: 903 - Baby laugh/laugh_1.m4a_24.wav  \n",
            "  inflating: 903 - Baby laugh/laugh_1.m4a_65.wav  \n",
            "  inflating: 903 - Baby laugh/laugh_1.m4a_51(1).wav  \n",
            "  inflating: 903 - Baby laugh/laugh_1.m4a_64.wav  \n",
            "  inflating: 903 - Baby laugh/laugh_1.m4a_45.wav  \n",
            "  inflating: 903 - Baby laugh/laugh_1.m4a_32.wav  \n",
            "  inflating: 903 - Baby laugh/laugh_2.m4a_1.wav  \n",
            "  inflating: 903 - Baby laugh/laugh_1.m4a_76.wav  \n",
            "  inflating: 903 - Baby laugh/laugh_1.m4a_12.wav  \n",
            "  inflating: 903 - Baby laugh/laugh_1.m4a_42.wav  \n",
            "  inflating: 903 - Baby laugh/laugh_2.m4a_11.wav  \n",
            "  inflating: 903 - Baby laugh/laugh_1.m4a_18.wav  \n",
            "  inflating: 903 - Baby laugh/laugh_1.m4a_67.wav  \n",
            "  inflating: 903 - Baby laugh/laugh_2.m4a_6.wav  \n"
          ],
          "name": "stdout"
        }
      ]
    },
    {
      "cell_type": "code",
      "metadata": {
        "id": "2CWful7IOuqY",
        "colab": {
          "base_uri": "https://localhost:8080/",
          "height": 1000
        },
        "outputId": "222ef49e-b3dd-4c12-b440-40be67af8a84"
      },
      "source": [
        "!unzip noise.zip"
      ],
      "execution_count": null,
      "outputs": [
        {
          "output_type": "stream",
          "text": [
            "Archive:  noise.zip\n",
            "  inflating: 902 - Noise/4-204119-A.ogg  \n",
            "  inflating: 902 - Noise/4-223125-A.ogg  \n",
            "  inflating: 902 - Noise/5-257839-A.ogg  \n",
            "  inflating: 902 - Noise/4-204121-A.ogg  \n",
            "  inflating: 902 - Noise/4-187769-B.ogg  \n",
            "  inflating: 902 - Noise/5-242490-A.ogg  \n",
            "  inflating: 902 - Noise/4-184235-A.ogg  \n",
            "  inflating: 902 - Noise/5-243459-A.ogg  \n",
            "  inflating: 902 - Noise/4-223127-A.ogg  \n",
            "  inflating: 902 - Noise/4-216211-A.ogg  \n",
            "  inflating: 902 - Noise/4-204123-A.ogg  \n",
            "  inflating: 902 - Noise/5-156999-E.ogg  \n",
            "  inflating: 902 - Noise/4-204115-A.ogg  \n",
            "  inflating: 902 - Noise/5-195557-A.ogg  \n",
            "  inflating: 902 - Noise/5-188495-A.ogg  \n",
            "  inflating: 902 - Noise/5-242491-A.ogg  \n",
            "  inflating: 902 - Noise/5-192191-A.ogg  \n",
            "  inflating: 902 - Noise/5-243448-A.ogg  \n",
            "  inflating: 902 - Noise/5-156999-C.ogg  \n",
            "  inflating: 902 - Noise/5-156999-D.ogg  \n",
            "  inflating: 902 - Noise/3-51731-B.ogg  \n",
            "  inflating: 902 - Noise/5-243450-A.ogg  \n",
            "  inflating: 902 - Noise/5-156999-B.ogg  \n",
            "  inflating: 902 - Noise/4-183882-B.ogg  \n",
            "  inflating: 902 - Noise/2-138465-A.ogg  \n",
            "  inflating: 902 - Noise/3-130998-B.ogg  \n",
            "  inflating: 902 - Noise/2-57191-A.ogg  \n",
            "  inflating: 902 - Noise/2-70939-A.ogg  \n",
            "  inflating: 902 - Noise/5-156999-A.ogg  \n",
            "  inflating: 902 - Noise/3-216281-A.ogg  \n",
            "  inflating: 902 - Noise/3-153057-A.ogg  \n",
            "  inflating: 902 - Noise/1-56907-A.ogg  \n",
            "  inflating: 902 - Noise/5-243449-A.ogg  \n",
            "  inflating: 902 - Noise/2-69131-A.ogg  \n",
            "  inflating: 902 - Noise/3-203374-A.ogg  \n",
            "  inflating: 902 - Noise/2-70936-A.ogg  \n",
            "  inflating: 902 - Noise/2-82274-A.ogg  \n",
            "  inflating: 902 - Noise/3-146697-A.ogg  \n",
            "  inflating: 902 - Noise/2-114280-A.ogg  \n",
            "  inflating: 902 - Noise/2-114587-A.ogg  \n",
            "  inflating: 902 - Noise/2-128465-A.ogg  \n",
            "  inflating: 902 - Noise/1-59513-A.ogg  \n",
            "  inflating: 902 - Noise/3-243726-A.ogg  \n",
            "  inflating: 902 - Noise/1-30226-A.ogg  \n",
            "  inflating: 902 - Noise/1-34094-B.ogg  \n",
            "  inflating: 902 - Noise/1-47819-B.ogg  \n",
            "  inflating: 902 - Noise/4-183882-A.ogg  \n",
            "  inflating: 902 - Noise/4-161519-A.ogg  \n",
            "  inflating: 902 - Noise/2-72688-A.ogg  \n",
            "  inflating: 902 - Noise/3-203371-A.ogg  \n",
            "  inflating: 902 - Noise/3-51909-B.ogg  \n",
            "  inflating: 902 - Noise/2-59566-A.ogg  \n",
            "  inflating: 902 - Noise/3-203377-A.ogg  \n",
            "  inflating: 902 - Noise/1-30344-A.ogg  \n",
            "  inflating: 902 - Noise/3-151557-B.ogg  \n",
            "  inflating: 902 - Noise/2-56926-A.ogg  \n",
            "  inflating: 902 - Noise/4-180337-A.ogg  \n",
            "  inflating: 902 - Noise/3-174840-A.ogg  \n",
            "  inflating: 902 - Noise/2-82274-B.ogg  \n",
            "  inflating: 902 - Noise/3-51731-A.ogg  \n",
            "  inflating: 902 - Noise/1-47819-A.ogg  \n",
            "  inflating: 902 - Noise/1-22804-A.ogg  \n",
            "  inflating: 902 - Noise/1-97392-A.ogg  \n",
            "  inflating: 902 - Noise/3-145577-A.ogg  \n",
            "  inflating: 902 - Noise/1-13572-A.ogg  \n",
            "  inflating: 902 - Noise/1-79113-A.ogg  \n",
            "  inflating: 902 - Noise/3-62878-B.ogg  \n",
            "  inflating: 902 - Noise/1-34094-A.ogg  \n",
            "  inflating: 902 - Noise/1-47819-C.ogg  \n",
            "  inflating: 902 - Noise/1-56380-A.ogg  \n",
            "  inflating: 902 - Noise/3-58772-A.ogg  \n",
            "  inflating: 902 - Noise/3-203373-A.ogg  \n",
            "  inflating: 902 - Noise/2-70938-A.ogg  \n",
            "  inflating: 902 - Noise/3-130998-A.ogg  \n",
            "  inflating: 902 - Noise/3-151557-A.ogg  \n",
            "  inflating: 902 - Noise/4-165813-A.ogg  \n",
            "  inflating: 902 - Noise/3-161010-A.ogg  \n",
            "  inflating: 902 - Noise/3-216280-A.ogg  \n",
            "  inflating: 902 - Noise/3-216284-A.ogg  \n",
            "  inflating: 902 - Noise/3-51909-A.ogg  \n",
            "  inflating: 902 - Noise/3-51376-A.ogg  \n",
            "  inflating: 902 - Noise/3-151255-A.ogg  \n",
            "  inflating: 902 - Noise/1-56380-B.ogg  \n",
            "  inflating: 902 - Noise/4-165813-B.ogg  \n",
            "  inflating: 902 - Noise/1-40154-A.ogg  \n",
            "  inflating: 902 - Noise/1-100032-A.ogg  \n",
            "  inflating: 902 - Noise/2-144137-A.ogg  \n",
            "  inflating: 902 - Noise/1-13571-A.ogg  \n",
            "  inflating: 902 - Noise/1-85362-A.ogg  \n",
            "  inflating: 902 - Noise/1-32318-A.ogg  \n",
            "  inflating: 902 - Noise/3-123086-A.ogg  \n",
            "  inflating: 902 - Noise/2-69131-B.ogg  \n",
            "  inflating: 902 - Noise/1-48298-A.ogg  \n",
            "  inflating: 902 - Noise/2-117271-A.ogg  \n",
            "  inflating: 902 - Noise/1-54747-A.ogg  \n",
            "  inflating: 902 - Noise/4-156993-A.ogg  \n",
            "  inflating: 902 - Noise/3-62878-A.ogg  \n",
            "  inflating: 902 - Noise/3-124958-A.ogg  \n",
            "  inflating: 902 - Noise/1-21421-A.ogg  \n",
            "  inflating: 902 - Noise/3-155130-A.ogg  \n",
            "  inflating: 902 - Noise/1-110389-A.ogg  \n",
            "  inflating: 902 - Noise/2-116400-A.ogg  \n",
            "  inflating: 902 - Noise/3-155234-A.ogg  \n",
            "  inflating: 902 - Noise/3-124795-A.ogg  \n",
            "  inflating: 902 - Noise/2-59565-A.ogg  \n",
            "  inflating: 902 - Noise/2-128465-B.ogg  \n",
            "  inflating: 902 - Noise/3-203375-A.ogg  \n",
            "  inflating: 902 - Noise/5-243459-B.ogg  \n"
          ],
          "name": "stdout"
        }
      ]
    },
    {
      "cell_type": "markdown",
      "metadata": {
        "id": "aX5df0DQOliT"
      },
      "source": [
        "REALIZANDO TESTES ANTES DE COMEÇAR REALMENTE O CÓDIGO"
      ]
    },
    {
      "cell_type": "code",
      "metadata": {
        "id": "KmtT2HfGZLC4"
      },
      "source": [
        "teste = \"silence/silence.wav_80.wav\""
      ],
      "execution_count": null,
      "outputs": []
    },
    {
      "cell_type": "code",
      "metadata": {
        "id": "jTu8N8OzZN-L"
      },
      "source": [
        "a = teste.split(\"/\")"
      ],
      "execution_count": null,
      "outputs": []
    },
    {
      "cell_type": "code",
      "metadata": {
        "id": "YYFzwtvfZTUy",
        "colab": {
          "base_uri": "https://localhost:8080/",
          "height": 34
        },
        "outputId": "bc615e95-1821-4aae-b227-0e7f37d3b68e"
      },
      "source": [
        "a"
      ],
      "execution_count": null,
      "outputs": [
        {
          "output_type": "execute_result",
          "data": {
            "text/plain": [
              "['silence', 'silence.wav_80.wav']"
            ]
          },
          "metadata": {
            "tags": []
          },
          "execution_count": 11
        }
      ]
    },
    {
      "cell_type": "code",
      "metadata": {
        "id": "-O1PlX1SaADL",
        "colab": {
          "base_uri": "https://localhost:8080/",
          "height": 296
        },
        "outputId": "fe9395cd-9587-413b-bf54-b3343efc638a"
      },
      "source": [
        "signal, samplerate = sf.read('silence/silence.wav_105.wav') \n",
        "\n",
        "time = np.arange(0,len(signal)*1/samplerate, 1/samplerate)\n",
        "\n",
        "plt.plot(time, signal)\n",
        "plt.xlabel('Time (s)')\n",
        "plt.ylabel('amplitude(v)')\n",
        "plt.show"
      ],
      "execution_count": null,
      "outputs": [
        {
          "output_type": "execute_result",
          "data": {
            "text/plain": [
              "<function matplotlib.pyplot.show>"
            ]
          },
          "metadata": {
            "tags": []
          },
          "execution_count": 12
        },
        {
          "output_type": "display_data",
          "data": {
            "image/png": "[encoded data removed]",
            "text/plain": [
              "<Figure size 432x288 with 1 Axes>"
            ]
          },
          "metadata": {
            "tags": []
          }
        }
      ]
    },
    {
      "cell_type": "code",
      "metadata": {
        "id": "F7TUL9GXg-YE",
        "colab": {
          "base_uri": "https://localhost:8080/",
          "height": 279
        },
        "outputId": "0da4955c-a573-4c3f-ee7a-dedae64a887f"
      },
      "source": [
        "\n",
        "w = np.linspace(-1,1,samplerate)\n",
        "ft = np.fft.fft(signal,len(w))\n",
        "wd = w/samplerate\n",
        "\n",
        "plt.subplot(2,1,1)\n",
        "plt.plot(w, 20*np.log(abs(ft)))\n",
        "plt.xlabel('omega (rad/s)')\n",
        "plt.ylabel('amplitude ')\n",
        "\n",
        "\n",
        "plt.subplot(2,1,2)\n",
        "plt.plot(w, abs(ft))\n",
        "plt.xlabel('omega (rad/s)')\n",
        "plt.ylabel('amplitude ')\n",
        "plt.show()"
      ],
      "execution_count": null,
      "outputs": [
        {
          "output_type": "display_data",
          "data": {
            "image/png": "[encoded data removed]",
            "text/plain": [
              "<Figure size 432x288 with 2 Axes>"
            ]
          },
          "metadata": {
            "tags": []
          }
        }
      ]
    },
    {
      "cell_type": "code",
      "metadata": {
        "id": "7Pt4E_aHwXtT",
        "colab": {
          "base_uri": "https://localhost:8080/",
          "height": 296
        },
        "outputId": "8954a16e-51b9-4e00-a10b-835a3433c633"
      },
      "source": [
        "signal2, fa = sf.read('crying/margot.m4a_24.wav')\n",
        "time2 = np.arange(0,len(signal2)*1/fa, 1/fa)\n",
        "\n",
        "plt.plot(time2, signal2)\n",
        "plt.xlabel('Time (s)')\n",
        "plt.ylabel('amplitude(v)')\n",
        "plt.show"
      ],
      "execution_count": null,
      "outputs": [
        {
          "output_type": "execute_result",
          "data": {
            "text/plain": [
              "<function matplotlib.pyplot.show>"
            ]
          },
          "metadata": {
            "tags": []
          },
          "execution_count": 14
        },
        {
          "output_type": "display_data",
          "data": {
            "image/png": "[encoded data removed]",
            "text/plain": [
              "<Figure size 432x288 with 1 Axes>"
            ]
          },
          "metadata": {
            "tags": []
          }
        }
      ]
    },
    {
      "cell_type": "markdown",
      "metadata": {
        "id": "HVg9arnmRoxQ"
      },
      "source": [
        ""
      ]
    },
    {
      "cell_type": "code",
      "metadata": {
        "id": "aNopDIgA0Lpl",
        "colab": {
          "base_uri": "https://localhost:8080/",
          "height": 34
        },
        "outputId": "1e26a647-10a3-4203-c481-6b521a5e381a"
      },
      "source": [
        "E = sum(abs(signal2)**2.0)/fa\n",
        "print (E)"
      ],
      "execution_count": null,
      "outputs": [
        {
          "output_type": "stream",
          "text": [
            "0.08278343117411517\n"
          ],
          "name": "stdout"
        }
      ]
    },
    {
      "cell_type": "code",
      "metadata": {
        "id": "GhENq1uOxGB7",
        "colab": {
          "base_uri": "https://localhost:8080/",
          "height": 279
        },
        "outputId": "fb0bf26e-7df3-4f83-aeaa-abe7e6c72d15"
      },
      "source": [
        "w2 = np.linspace(-1,1,samplerate)\n",
        "ft2 = np.fft.fft(signal2,len(w2))\n",
        "wd2 = w2/samplerate\n",
        "plt.subplot(2,1,1)\n",
        "plt.plot(w2, 20*np.log(abs(ft2)))\n",
        "plt.xlabel('omega (rad/s)')\n",
        "plt.ylabel('amplitude ')\n",
        "\n",
        "plt.subplot(2,1,2)\n",
        "plt.plot(w2, abs(ft2))\n",
        "plt.xlabel('omega (rad/s)')\n",
        "plt.ylabel('amplitude ')\n",
        "plt.show()\n",
        "\n",
        "\n"
      ],
      "execution_count": null,
      "outputs": [
        {
          "output_type": "display_data",
          "data": {
            "image/png": "[encoded data removed]",
            "text/plain": [
              "<Figure size 432x288 with 2 Axes>"
            ]
          },
          "metadata": {
            "tags": []
          }
        }
      ]
    },
    {
      "cell_type": "code",
      "metadata": {
        "id": "LTicmyflRchF",
        "colab": {
          "base_uri": "https://localhost:8080/",
          "height": 288
        },
        "outputId": "afadac85-f812-423c-a77e-72b05ae4a744"
      },
      "source": [
        "signal3, samplerate3 = sf.read('data/903 - Baby laugh/laugh_2.m4a_5.wav') \n",
        "time3 = np.arange(0,len(signal3)*1/samplerate3, 1/samplerate3)\n",
        "\n",
        "w3 = np.linspace(-1,1,samplerate3)\n",
        "ft3 = np.fft.fft(signal3,len(w3))\n",
        "\n",
        "plt.subplot(4,1,1)\n",
        "plt.plot(time3, signal3)\n",
        "plt.xlabel('Time (s)')\n",
        "plt.ylabel('amplitude(v)')\n",
        "\n",
        "plt.subplot(4,1,3)\n",
        "plt.plot(w3, 20*np.log(abs(ft3)))\n",
        "plt.xlabel('omega (rad/s)')\n",
        "plt.ylabel('amplitude (dB)')\n",
        "\n",
        "plt.subplot(4,1,4)\n",
        "plt.plot(w3, abs(ft3))\n",
        "plt.xlabel('omega (rad/s)')\n",
        "plt.ylabel('amplitude ')\n",
        "plt.show()"
      ],
      "execution_count": null,
      "outputs": [
        {
          "output_type": "display_data",
          "data": {
            "image/png": "[encoded data removed]",
            "text/plain": [
              "<Figure size 432x288 with 3 Axes>"
            ]
          },
          "metadata": {
            "tags": []
          }
        }
      ]
    },
    {
      "cell_type": "code",
      "metadata": {
        "id": "kRpTGnm7Rcwi",
        "colab": {
          "base_uri": "https://localhost:8080/",
          "height": 288
        },
        "outputId": "02313a3f-b34c-4db7-d289-5340a2454174"
      },
      "source": [
        "signal4, samplerate4 = sf.read('data/902 - Noise/3-130998-A.ogg') \n",
        "time4 = np.arange(0,len(signal4)*1/samplerate4, 1/samplerate4)\n",
        "\n",
        "w4 = np.linspace(-1,1,samplerate4)\n",
        "ft4 = np.fft.fft(signal4,len(w4))\n",
        "\n",
        "plt.subplot(4,1,1)\n",
        "plt.plot(time4, signal4)\n",
        "plt.xlabel('Time (s)')\n",
        "plt.ylabel('amplitude(v)')\n",
        "\n",
        "plt.subplot(4,1,3)\n",
        "plt.plot(w4, 20*np.log(abs(ft4)))\n",
        "plt.xlabel('omega (rad/s)')\n",
        "plt.ylabel('amplitude (dB)')\n",
        "\n",
        "plt.subplot(4,1,4)\n",
        "plt.plot(w4, abs(ft4))\n",
        "plt.xlabel('omega (rad/s)')\n",
        "plt.ylabel('amplitude ')\n",
        "plt.show()"
      ],
      "execution_count": null,
      "outputs": [
        {
          "output_type": "display_data",
          "data": {
            "image/png": "[encoded data removed]",
            "text/plain": [
              "<Figure size 432x288 with 3 Axes>"
            ]
          },
          "metadata": {
            "tags": []
          }
        }
      ]
    },
    {
      "cell_type": "code",
      "metadata": {
        "id": "YQrodfPwEXzm",
        "colab": {
          "base_uri": "https://localhost:8080/",
          "height": 34
        },
        "outputId": "dd3a606d-92fd-48ea-9da0-502a05f214cf"
      },
      "source": [
        "print(len(w2))"
      ],
      "execution_count": null,
      "outputs": [
        {
          "output_type": "stream",
          "text": [
            "44100\n"
          ],
          "name": "stdout"
        }
      ]
    },
    {
      "cell_type": "markdown",
      "metadata": {
        "id": "B0H3lf1Ke-R_"
      },
      "source": [
        "Criar vetor de audio(caracteristicas=entrada) e labels(saída)"
      ]
    },
    {
      "cell_type": "code",
      "metadata": {
        "id": "nnHwsXFbZ9jK",
        "colab": {
          "base_uri": "https://localhost:8080/",
          "height": 1000
        },
        "outputId": "61142064-717e-4c96-ffad-a501b36fc5ca"
      },
      "source": [
        "audios = []\n",
        "labels = []\n",
        "\n",
        "def traverse_dir(path):\n",
        "    for file_or_dir in os.listdir(path):\n",
        "        abs_path = os.path.abspath(os.path.join(path, file_or_dir))\n",
        "        print(abs_path)\n",
        "        if os.path.isdir(abs_path):  # dir\n",
        "            traverse_dir(abs_path)\n",
        "        else:                        # file\n",
        "            if file_or_dir.endswith('.wav'):\n",
        "                audio, fs= read_audio(abs_path)\n",
        "                audios.append(audio)\n",
        "                lbl = abs_path.split('/')\n",
        "                labels.append(lbl[3])\n",
        "\n",
        "    return audios, labels\n",
        "\n",
        "def read_audio(file_path):\n",
        "    audio, fs = sf.read(file_path)\n",
        "    ft = np.fft.fft(audio)\n",
        "    espct = abs(ft)\n",
        "    return espct, fs\n",
        "\n",
        "def extract_data(file_path):\n",
        "    audios, labels = traverse_dir(file_path)\n",
        "    audios = np.array(audios)\n",
        "\n",
        "    return audios, labels\n",
        "\n",
        "audios, labels = extract_data('data')\n",
        "labels = np.reshape(labels, [-1])\n",
        "le = preprocessing.LabelEncoder()\n",
        "le.fit(labels)\n",
        "labels_enc = le.transform(labels)\n",
        "\n"
      ],
      "execution_count": null,
      "outputs": [
        {
          "output_type": "stream",
          "text": [
            "/content/data/crying\n",
            "/content/data/crying/Louise_01.m4a_4.wav\n",
            "/content/data/crying/margot.m4a_18.wav\n",
            "/content/data/crying/Louise_01.m4a_1.wav\n",
            "/content/data/crying/Louise_01.m4a_10.wav\n",
            "/content/data/crying/margot.m4a_7.wav\n",
            "/content/data/crying/margot.m4a_22.wav\n",
            "/content/data/crying/margot.m4a_17.wav\n",
            "/content/data/crying/1-22694-B.ogg\n",
            "/content/data/crying/Louise_01.m4a_13.wav\n",
            "/content/data/crying/3-152007-E.ogg\n",
            "/content/data/crying/margot.m4a_2.wav\n",
            "/content/data/crying/V_2017-04-01+08_06_22=0_30.mp3_22.wav\n",
            "/content/data/crying/5-151085-A.ogg\n",
            "/content/data/crying/V_2017-04-01+08_06_22=0_30.mp3_17.wav\n",
            "/content/data/crying/margot.m4a_11.wav\n",
            "/content/data/crying/margot.m4a_13.wav\n",
            "/content/data/crying/1-187207-A.ogg\n",
            "/content/data/crying/3-152007-B.ogg\n",
            "/content/data/crying/4-185575-B.ogg\n",
            "/content/data/crying/2-151079-A.ogg\n",
            "/content/data/crying/margot.m4a_0.wav\n",
            "/content/data/crying/margot.m4a_1.wav\n",
            "/content/data/crying/1-60997-B.ogg\n",
            "/content/data/crying/4-167077-C.ogg\n",
            "/content/data/crying/5-198411-G.ogg\n",
            "/content/data/crying/V_2017-04-01+08_06_22=0_30.mp3_9.wav\n",
            "/content/data/crying/2-107351-B.ogg\n",
            "/content/data/crying/1-211527-C.ogg\n",
            "/content/data/crying/V_2017-04-01+08_06_22=0_30.mp3_2.wav\n",
            "/content/data/crying/.ipynb_checkpoints\n",
            "/content/data/crying/3-151081-A.ogg\n",
            "/content/data/crying/1-211527-B.ogg\n",
            "/content/data/crying/margot.m4a_21.wav\n",
            "/content/data/crying/margot.m4a_16.wav\n",
            "/content/data/crying/V_2017-04-01+08_06_22=0_30.mp3_24.wav\n",
            "/content/data/crying/margot.m4a_4.wav\n",
            "/content/data/crying/margot.m4a_6.wav\n",
            "/content/data/crying/Louise_01.m4a_6.wav\n",
            "/content/data/crying/margot.m4a_20.wav\n",
            "/content/data/crying/margot.m4a_5.wav\n",
            "/content/data/crying/V_2017-04-01+08_06_22=0_30.mp3_4.wav\n",
            "/content/data/crying/Louise_01.m4a_11.wav\n",
            "/content/data/crying/3-152007-A.ogg\n",
            "/content/data/crying/V_2017-04-01+08_06_22=0_30.mp3_1.wav\n",
            "/content/data/crying/margot.m4a_10.wav\n",
            "/content/data/crying/5-198411-F.ogg\n",
            "/content/data/crying/Louise_01.m4a_8.wav\n",
            "/content/data/crying/V_2017-04-01+08_06_22=0_30.mp3_12.wav\n",
            "/content/data/crying/1-60997-A.ogg\n",
            "/content/data/crying/2-107351-A.ogg\n",
            "/content/data/crying/3-152007-C.ogg\n",
            "/content/data/crying/4-185575-A.ogg\n",
            "/content/data/crying/2-66637-A.ogg\n",
            "/content/data/crying/V_2017-04-01+08_06_22=0_30.mp3_15.wav\n",
            "/content/data/crying/margot.m4a_23.wav\n",
            "/content/data/crying/Louise_01.m4a_12.wav\n",
            "/content/data/crying/V_2017-04-01+08_06_22=0_30.mp3_25.wav\n",
            "/content/data/crying/V_2017-04-01+08_06_22=0_30.mp3_7.wav\n",
            "/content/data/crying/margot.m4a_9.wav\n",
            "/content/data/crying/margot.m4a_25.wav\n",
            "/content/data/crying/margot.m4a_15.wav\n",
            "/content/data/crying/margot.m4a_26.wav\n",
            "/content/data/crying/V_2017-04-01+08_06_22=0_30.mp3_11.wav\n",
            "/content/data/crying/2-50666-A.ogg\n",
            "/content/data/crying/V_2017-04-01+08_06_22=0_30.mp3_3.wav\n",
            "/content/data/crying/V_2017-04-01+08_06_22=0_30.mp3_8.wav\n",
            "/content/data/crying/V_2017-04-01+08_06_22=0_30.mp3_6.wav\n",
            "/content/data/crying/4-59579-A.ogg\n",
            "/content/data/crying/3-151080-A.ogg\n",
            "/content/data/crying/margot.m4a_8.wav\n",
            "/content/data/crying/2-66637-B.ogg\n",
            "/content/data/crying/V_2017-04-01+08_06_22=0_30.mp3_5.wav\n",
            "/content/data/crying/V_2017-04-01+08_06_22=0_30.mp3_14.wav\n",
            "/content/data/crying/5-198411-A.ogg\n",
            "/content/data/crying/Louise_01.m4a_2.wav\n",
            "/content/data/crying/Louise_01.m4a_9.wav\n",
            "/content/data/crying/4-167077-A.ogg\n",
            "/content/data/crying/V_2017-04-01+08_06_22=0_30.mp3_19.wav\n",
            "/content/data/crying/V_2017-04-01+08_06_22=0_30.mp3_18.wav\n",
            "/content/data/crying/V_2017-04-01+08_06_22=0_30.mp3_23.wav\n",
            "/content/data/crying/V_2017-04-01+08_06_22=0_30.mp3_16.wav\n",
            "/content/data/crying/Louise_01.m4a_5.wav\n",
            "/content/data/crying/4-59579-B.ogg\n",
            "/content/data/crying/4-185575-C.ogg\n",
            "/content/data/crying/margot.m4a_19.wav\n",
            "/content/data/crying/5-198411-E.ogg\n",
            "/content/data/crying/Louise_01.m4a_0.wav\n",
            "/content/data/crying/V_2017-04-01+08_06_22=0_30.mp3_0.wav\n",
            "/content/data/crying/3-152007-D.ogg\n",
            "/content/data/crying/Louise_01.m4a_14.wav\n",
            "/content/data/crying/margot.m4a_12.wav\n",
            "/content/data/crying/3-151081-B.ogg\n",
            "/content/data/crying/1-211527-A.ogg\n",
            "/content/data/crying/V_2017-04-01+08_06_22=0_30.mp3_20.wav\n",
            "/content/data/crying/margot.m4a_14.wav\n",
            "/content/data/crying/5-198411-C.ogg\n",
            "/content/data/crying/V_2017-04-01+08_06_22=0_30.mp3_10.wav\n",
            "/content/data/crying/V_2017-04-01+08_06_22=0_30.mp3_21.wav\n",
            "/content/data/crying/margot.m4a_3.wav\n",
            "/content/data/crying/margot.m4a_24.wav\n",
            "/content/data/crying/Louise_01.m4a_3.wav\n",
            "/content/data/crying/V_2017-04-01+08_06_22=0_30.mp3_13.wav\n",
            "/content/data/crying/1-22694-A.ogg\n",
            "/content/data/crying/5-198411-B.ogg\n",
            "/content/data/crying/4-167077-B.ogg\n",
            "/content/data/crying/2-50665-A.ogg\n",
            "/content/data/crying/Louise_01.m4a_7.wav\n",
            "/content/data/crying/5-198411-D.ogg\n",
            "/content/data/crying/2-80482-A.ogg\n",
            "/content/data/902 - Noise\n",
            "/content/data/902 - Noise/3-174840-A.ogg\n",
            "/content/data/902 - Noise/2-116400-A.ogg\n",
            "/content/data/902 - Noise/2-69131-A.ogg\n",
            "/content/data/902 - Noise/2-114587-A.ogg\n",
            "/content/data/902 - Noise/4-204121-A.ogg\n",
            "/content/data/902 - Noise/2-144137-A.ogg\n",
            "/content/data/902 - Noise/5-242490-A.ogg\n",
            "/content/data/902 - Noise/4-165813-A.ogg\n",
            "/content/data/902 - Noise/4-180337-A.ogg\n",
            "/content/data/902 - Noise/5-242491-A.ogg\n",
            "/content/data/902 - Noise/4-204123-A.ogg\n",
            "/content/data/902 - Noise/4-165813-B.ogg\n",
            "/content/data/902 - Noise/3-51731-A.ogg\n",
            "/content/data/902 - Noise/2-70936-A.ogg\n",
            "/content/data/902 - Noise/3-216284-A.ogg\n",
            "/content/data/902 - Noise/1-56380-A.ogg\n",
            "/content/data/902 - Noise/2-128465-A.ogg\n",
            "/content/data/902 - Noise/1-32318-A.ogg\n",
            "/content/data/902 - Noise/5-243450-A.ogg\n",
            "/content/data/902 - Noise/1-110389-A.ogg\n",
            "/content/data/902 - Noise/3-151557-B.ogg\n",
            "/content/data/902 - Noise/5-243459-A.ogg\n",
            "/content/data/902 - Noise/3-151255-A.ogg\n",
            "/content/data/902 - Noise/3-216281-A.ogg\n",
            "/content/data/902 - Noise/1-47819-A.ogg\n",
            "/content/data/902 - Noise/3-203377-A.ogg\n",
            "/content/data/902 - Noise/3-161010-A.ogg\n",
            "/content/data/902 - Noise/4-223127-A.ogg\n",
            "/content/data/902 - Noise/2-128465-B.ogg\n",
            "/content/data/902 - Noise/1-56907-A.ogg\n",
            "/content/data/902 - Noise/5-243448-A.ogg\n",
            "/content/data/902 - Noise/1-21421-A.ogg\n",
            "/content/data/902 - Noise/2-70939-A.ogg\n",
            "/content/data/902 - Noise/3-124958-A.ogg\n",
            "/content/data/902 - Noise/2-59566-A.ogg\n",
            "/content/data/902 - Noise/5-257839-A.ogg\n",
            "/content/data/902 - Noise/1-85362-A.ogg\n",
            "/content/data/902 - Noise/3-51731-B.ogg\n",
            "/content/data/902 - Noise/4-204115-A.ogg\n",
            "/content/data/902 - Noise/1-56380-B.ogg\n",
            "/content/data/902 - Noise/3-203374-A.ogg\n",
            "/content/data/902 - Noise/5-188495-A.ogg\n",
            "/content/data/902 - Noise/3-130998-B.ogg\n",
            "/content/data/902 - Noise/3-151557-A.ogg\n",
            "/content/data/902 - Noise/4-187769-B.ogg\n",
            "/content/data/902 - Noise/5-243459-B.ogg\n",
            "/content/data/902 - Noise/4-156993-A.ogg\n",
            "/content/data/902 - Noise/1-30344-A.ogg\n",
            "/content/data/902 - Noise/3-62878-A.ogg\n",
            "/content/data/902 - Noise/1-30226-A.ogg\n",
            "/content/data/902 - Noise/1-79113-A.ogg\n",
            "/content/data/902 - Noise/2-57191-A.ogg\n",
            "/content/data/902 - Noise/2-117271-A.ogg\n",
            "/content/data/902 - Noise/2-59565-A.ogg\n",
            "/content/data/902 - Noise/4-183882-B.ogg\n",
            "/content/data/902 - Noise/1-22804-A.ogg\n",
            "/content/data/902 - Noise/3-62878-B.ogg\n",
            "/content/data/902 - Noise/5-192191-A.ogg\n",
            "/content/data/902 - Noise/5-243449-A.ogg\n",
            "/content/data/902 - Noise/5-156999-C.ogg\n",
            "/content/data/902 - Noise/4-184235-A.ogg\n",
            "/content/data/902 - Noise/5-195557-A.ogg\n",
            "/content/data/902 - Noise/3-203373-A.ogg\n",
            "/content/data/902 - Noise/1-100032-A.ogg\n",
            "/content/data/902 - Noise/3-146697-A.ogg\n",
            "/content/data/902 - Noise/4-216211-A.ogg\n",
            "/content/data/902 - Noise/1-13572-A.ogg\n",
            "/content/data/902 - Noise/2-72688-A.ogg\n",
            "/content/data/902 - Noise/3-145577-A.ogg\n",
            "/content/data/902 - Noise/1-54747-A.ogg\n",
            "/content/data/902 - Noise/3-130998-A.ogg\n",
            "/content/data/902 - Noise/5-156999-D.ogg\n",
            "/content/data/902 - Noise/3-216280-A.ogg\n",
            "/content/data/902 - Noise/3-51376-A.ogg\n",
            "/content/data/902 - Noise/1-34094-B.ogg\n",
            "/content/data/902 - Noise/3-243726-A.ogg\n",
            "/content/data/902 - Noise/1-47819-C.ogg\n",
            "/content/data/902 - Noise/2-138465-A.ogg\n",
            "/content/data/902 - Noise/2-82274-B.ogg\n",
            "/content/data/902 - Noise/4-161519-A.ogg\n",
            "/content/data/902 - Noise/5-156999-E.ogg\n",
            "/content/data/902 - Noise/3-124795-A.ogg\n",
            "/content/data/902 - Noise/2-114280-A.ogg\n",
            "/content/data/902 - Noise/4-204119-A.ogg\n",
            "/content/data/902 - Noise/1-34094-A.ogg\n",
            "/content/data/902 - Noise/2-82274-A.ogg\n",
            "/content/data/902 - Noise/5-156999-B.ogg\n",
            "/content/data/902 - Noise/1-47819-B.ogg\n",
            "/content/data/902 - Noise/4-223125-A.ogg\n",
            "/content/data/902 - Noise/3-155130-A.ogg\n",
            "/content/data/902 - Noise/1-97392-A.ogg\n",
            "/content/data/902 - Noise/1-40154-A.ogg\n",
            "/content/data/902 - Noise/3-123086-A.ogg\n",
            "/content/data/902 - Noise/2-70938-A.ogg\n",
            "/content/data/902 - Noise/3-51909-A.ogg\n",
            "/content/data/902 - Noise/1-59513-A.ogg\n",
            "/content/data/902 - Noise/2-69131-B.ogg\n",
            "/content/data/902 - Noise/3-153057-A.ogg\n",
            "/content/data/902 - Noise/3-203371-A.ogg\n",
            "/content/data/902 - Noise/2-56926-A.ogg\n",
            "/content/data/902 - Noise/3-58772-A.ogg\n",
            "/content/data/902 - Noise/3-51909-B.ogg\n",
            "/content/data/902 - Noise/5-156999-A.ogg\n",
            "/content/data/902 - Noise/3-203375-A.ogg\n",
            "/content/data/902 - Noise/1-48298-A.ogg\n",
            "/content/data/902 - Noise/3-155234-A.ogg\n",
            "/content/data/902 - Noise/4-183882-A.ogg\n",
            "/content/data/902 - Noise/1-13571-A.ogg\n",
            "/content/data/903 - Baby laugh\n",
            "/content/data/903 - Baby laugh/laugh_1.m4a_47.wav\n",
            "/content/data/903 - Baby laugh/laugh_1.m4a_38.wav\n",
            "/content/data/903 - Baby laugh/laugh_2.m4a_16.wav\n",
            "/content/data/903 - Baby laugh/laugh_1.m4a_1.wav\n",
            "/content/data/903 - Baby laugh/laugh_2.m4a_17.wav\n",
            "/content/data/903 - Baby laugh/laugh_1.m4a_49.wav\n",
            "/content/data/903 - Baby laugh/laugh_1.m4a_42.wav\n",
            "/content/data/903 - Baby laugh/laugh_1.m4a_21.wav\n",
            "/content/data/903 - Baby laugh/laugh_1.m4a_78.wav\n",
            "/content/data/903 - Baby laugh/laugh_2.m4a_3.wav\n",
            "/content/data/903 - Baby laugh/laugh_2.m4a_11.wav\n",
            "/content/data/903 - Baby laugh/laugh_2.m4a_0.wav\n",
            "/content/data/903 - Baby laugh/laugh_1.m4a_27.wav\n",
            "/content/data/903 - Baby laugh/laugh_2.m4a_19.wav\n",
            "/content/data/903 - Baby laugh/laugh_1.m4a_28.wav\n",
            "/content/data/903 - Baby laugh/laugh_2.m4a_8.wav\n",
            "/content/data/903 - Baby laugh/laugh_1.m4a_64.wav\n",
            "/content/data/903 - Baby laugh/laugh_1.m4a_56(1).wav\n",
            "/content/data/903 - Baby laugh/laugh_1.m4a_52.wav\n",
            "/content/data/903 - Baby laugh/laugh_1.m4a_33.wav\n",
            "/content/data/903 - Baby laugh/laugh_1.m4a_51(1).wav\n",
            "/content/data/903 - Baby laugh/laugh_1.m4a_11.wav\n",
            "/content/data/903 - Baby laugh/laugh_1.m4a_3.wav\n",
            "/content/data/903 - Baby laugh/laugh_1.m4a_66.wav\n",
            "/content/data/903 - Baby laugh/laugh_1.m4a_62.wav\n",
            "/content/data/903 - Baby laugh/laugh_1.m4a_50(1).wav\n",
            "/content/data/903 - Baby laugh/laugh_1.m4a_0.wav\n",
            "/content/data/903 - Baby laugh/laugh_1.m4a_43.wav\n",
            "/content/data/903 - Baby laugh/laugh_2.m4a_5.wav\n",
            "/content/data/903 - Baby laugh/laugh_1.m4a_15.wav\n",
            "/content/data/903 - Baby laugh/laugh_1.m4a_80.wav\n",
            "/content/data/903 - Baby laugh/.ipynb_checkpoints\n",
            "/content/data/903 - Baby laugh/laugh_1.m4a_48.wav\n",
            "/content/data/903 - Baby laugh/laugh_1.m4a_29.wav\n",
            "/content/data/903 - Baby laugh/laugh_1.m4a_57(1).wav\n",
            "/content/data/903 - Baby laugh/laugh_1.m4a_55.wav\n",
            "/content/data/903 - Baby laugh/laugh_1.m4a_41.wav\n",
            "/content/data/903 - Baby laugh/laugh_2.m4a_9.wav\n",
            "/content/data/903 - Baby laugh/laugh_1.m4a_5(1).wav\n",
            "/content/data/903 - Baby laugh/laugh_1.m4a_54.wav\n",
            "/content/data/903 - Baby laugh/laugh_1.m4a_6.wav\n",
            "/content/data/903 - Baby laugh/laugh_1.m4a_31.wav\n",
            "/content/data/903 - Baby laugh/laugh_1.m4a_87.wav\n",
            "/content/data/903 - Baby laugh/laugh_1.m4a_26.wav\n",
            "/content/data/903 - Baby laugh/laugh_1.m4a_39.wav\n",
            "/content/data/903 - Baby laugh/laugh_1.m4a_63.wav\n",
            "/content/data/903 - Baby laugh/laugh_1.m4a_84.wav\n",
            "/content/data/903 - Baby laugh/laugh_1.m4a_59.wav\n",
            "/content/data/903 - Baby laugh/laugh_1.m4a_69.wav\n",
            "/content/data/903 - Baby laugh/laugh_2.m4a_14.wav\n",
            "/content/data/903 - Baby laugh/laugh_1.m4a_37.wav\n",
            "/content/data/903 - Baby laugh/laugh_1.m4a_24.wav\n",
            "/content/data/903 - Baby laugh/laugh_1.m4a_35.wav\n",
            "/content/data/903 - Baby laugh/laugh_1.m4a_65.wav\n",
            "/content/data/903 - Baby laugh/laugh_1.m4a_32.wav\n",
            "/content/data/903 - Baby laugh/laugh_1.m4a_10.wav\n",
            "/content/data/903 - Baby laugh/laugh_1.m4a_72.wav\n",
            "/content/data/903 - Baby laugh/laugh_1.m4a_20.wav\n",
            "/content/data/903 - Baby laugh/laugh_2.m4a_15.wav\n",
            "/content/data/903 - Baby laugh/laugh_2.m4a_6.wav\n",
            "/content/data/903 - Baby laugh/laugh_1.m4a_46.wav\n",
            "/content/data/903 - Baby laugh/laugh_1.m4a_73.wav\n",
            "/content/data/903 - Baby laugh/laugh_1.m4a_54(1).wav\n",
            "/content/data/903 - Baby laugh/laugh_1.m4a_2.wav\n",
            "/content/data/903 - Baby laugh/laugh_1.m4a_22.wav\n",
            "/content/data/903 - Baby laugh/laugh_1.m4a_14.wav\n",
            "/content/data/903 - Baby laugh/laugh_1.m4a_18.wav\n",
            "/content/data/903 - Baby laugh/laugh_1.m4a_68.wav\n",
            "/content/data/903 - Baby laugh/laugh_1.m4a_40.wav\n",
            "/content/data/903 - Baby laugh/laugh_1.m4a_4.wav\n",
            "/content/data/903 - Baby laugh/laugh_2.m4a_2.wav\n",
            "/content/data/903 - Baby laugh/laugh_1.m4a_56.wav\n",
            "/content/data/903 - Baby laugh/laugh_1.m4a_77.wav\n",
            "/content/data/903 - Baby laugh/laugh_2.m4a_10.wav\n",
            "/content/data/903 - Baby laugh/laugh_1.m4a_12.wav\n",
            "/content/data/903 - Baby laugh/laugh_1.m4a_74.wav\n",
            "/content/data/903 - Baby laugh/laugh_1.m4a_60.wav\n",
            "/content/data/903 - Baby laugh/laugh_1.m4a_53.wav\n",
            "/content/data/903 - Baby laugh/laugh_1.m4a_67.wav\n",
            "/content/data/903 - Baby laugh/laugh_1.m4a_75.wav\n",
            "/content/data/903 - Baby laugh/laugh_1.m4a_9.wav\n",
            "/content/data/903 - Baby laugh/laugh_1.m4a_57.wav\n",
            "/content/data/903 - Baby laugh/laugh_2.m4a_4.wav\n",
            "/content/data/903 - Baby laugh/laugh_1.m4a_5.wav\n",
            "/content/data/903 - Baby laugh/laugh_2.m4a_18.wav\n",
            "/content/data/903 - Baby laugh/laugh_1.m4a_79.wav\n",
            "/content/data/903 - Baby laugh/laugh_1.m4a_25.wav\n",
            "/content/data/903 - Baby laugh/laugh_2.m4a_12.wav\n",
            "/content/data/903 - Baby laugh/laugh_1.m4a_19.wav\n",
            "/content/data/903 - Baby laugh/laugh_1.m4a_7.wav\n",
            "/content/data/903 - Baby laugh/laugh_1.m4a_85.wav\n",
            "/content/data/903 - Baby laugh/laugh_2.m4a_7.wav\n",
            "/content/data/903 - Baby laugh/laugh_1.m4a_30.wav\n",
            "/content/data/903 - Baby laugh/laugh_1.m4a_71.wav\n",
            "/content/data/903 - Baby laugh/laugh_1.m4a_58.wav\n",
            "/content/data/903 - Baby laugh/laugh_1.m4a_45.wav\n",
            "/content/data/903 - Baby laugh/laugh_1.m4a_82.wav\n",
            "/content/data/903 - Baby laugh/laugh_1.m4a_81.wav\n",
            "/content/data/903 - Baby laugh/laugh_1.m4a_17.wav\n",
            "/content/data/903 - Baby laugh/laugh_1.m4a_51.wav\n",
            "/content/data/903 - Baby laugh/laugh_1.m4a_13.wav\n",
            "/content/data/903 - Baby laugh/laugh_1.m4a_23.wav\n",
            "/content/data/903 - Baby laugh/laugh_1.m4a_70.wav\n",
            "/content/data/903 - Baby laugh/laugh_2.m4a_1.wav\n",
            "/content/data/903 - Baby laugh/laugh_1.m4a_50.wav\n",
            "/content/data/903 - Baby laugh/laugh_1.m4a_36.wav\n",
            "/content/data/903 - Baby laugh/laugh_1.m4a_76.wav\n",
            "/content/data/903 - Baby laugh/laugh_1.m4a_34.wav\n",
            "/content/data/903 - Baby laugh/laugh_1.m4a_61.wav\n",
            "/content/data/903 - Baby laugh/laugh_1.m4a_53(1).wav\n",
            "/content/data/903 - Baby laugh/laugh_1.m4a_86.wav\n",
            "/content/data/903 - Baby laugh/laugh_1.m4a_83.wav\n",
            "/content/data/903 - Baby laugh/laugh_1.m4a_16.wav\n",
            "/content/data/903 - Baby laugh/laugh_1.m4a_44.wav\n",
            "/content/data/903 - Baby laugh/laugh_2.m4a_13.wav\n",
            "/content/data/903 - Baby laugh/laugh_1.m4a_8.wav\n",
            "/content/data/silence\n",
            "/content/data/silence/silence.wav_12.wav\n",
            "/content/data/silence/silence.wav_79.wav\n",
            "/content/data/silence/silence.wav_68.wav\n",
            "/content/data/silence/silence.wav_66.wav\n",
            "/content/data/silence/silence.wav_9.wav\n",
            "/content/data/silence/silence.wav_15.wav\n",
            "/content/data/silence/silence.wav_31.wav\n",
            "/content/data/silence/silence.wav_1.wav\n",
            "/content/data/silence/silence.wav_37.wav\n",
            "/content/data/silence/silence.wav_50.wav\n",
            "/content/data/silence/silence.wav_94.wav\n",
            "/content/data/silence/silence.wav_41.wav\n",
            "/content/data/silence/silence.wav_26.wav\n",
            "/content/data/silence/silence.wav_80.wav\n",
            "/content/data/silence/silence.wav_73.wav\n",
            "/content/data/silence/silence.wav_95.wav\n",
            "/content/data/silence/silence.wav_56.wav\n",
            "/content/data/silence/silence.wav_51.wav\n",
            "/content/data/silence/silence.wav_34.wav\n",
            "/content/data/silence/silence.wav_17.wav\n",
            "/content/data/silence/silence.wav_7.wav\n",
            "/content/data/silence/silence.wav_21.wav\n",
            "/content/data/silence/silence.wav_43.wav\n",
            "/content/data/silence/silence.wav_55.wav\n",
            "/content/data/silence/silence.wav_59.wav\n",
            "/content/data/silence/silence.wav_23.wav\n",
            "/content/data/silence/silence.wav_84.wav\n",
            "/content/data/silence/silence.wav_48.wav\n",
            "/content/data/silence/silence.wav_8.wav\n",
            "/content/data/silence/silence.wav_93.wav\n",
            "/content/data/silence/silence.wav_11.wav\n",
            "/content/data/silence/silence.wav_10.wav\n",
            "/content/data/silence/silence.wav_76.wav\n",
            "/content/data/silence/silence.wav_100.wav\n",
            "/content/data/silence/silence.wav_27.wav\n",
            "/content/data/silence/silence.wav_78.wav\n",
            "/content/data/silence/silence.wav_40.wav\n",
            "/content/data/silence/silence.wav_96.wav\n",
            "/content/data/silence/silence.wav_91.wav\n",
            "/content/data/silence/silence.wav_53.wav\n",
            "/content/data/silence/silence.wav_2.wav\n",
            "/content/data/silence/silence.wav_70.wav\n",
            "/content/data/silence/silence.wav_4.wav\n",
            "/content/data/silence/silence.wav_72.wav\n",
            "/content/data/silence/silence.wav_42.wav\n",
            "/content/data/silence/silence.wav_49.wav\n",
            "/content/data/silence/silence.wav_29.wav\n",
            "/content/data/silence/silence.wav_62.wav\n",
            "/content/data/silence/silence.wav_24.wav\n",
            "/content/data/silence/silence.wav_47.wav\n",
            "/content/data/silence/silence.wav_18.wav\n",
            "/content/data/silence/silence.wav_30.wav\n",
            "/content/data/silence/silence.wav_88.wav\n",
            "/content/data/silence/silence.wav_25.wav\n",
            "/content/data/silence/silence.wav_105.wav\n",
            "/content/data/silence/silence.wav_14.wav\n",
            "/content/data/silence/silence.wav_64.wav\n",
            "/content/data/silence/silence.wav_3.wav\n",
            "/content/data/silence/silence.wav_104.wav\n",
            "/content/data/silence/silence.wav_13.wav\n",
            "/content/data/silence/silence.wav_52.wav\n",
            "/content/data/silence/silence.wav_69.wav\n",
            "/content/data/silence/silence.wav_45.wav\n",
            "/content/data/silence/silence.wav_6.wav\n",
            "/content/data/silence/silence.wav_63.wav\n",
            "/content/data/silence/silence.wav_5.wav\n",
            "/content/data/silence/silence.wav_33.wav\n",
            "/content/data/silence/silence.wav_19.wav\n",
            "/content/data/silence/silence.wav_35.wav\n",
            "/content/data/silence/silence.wav_58.wav\n",
            "/content/data/silence/silence.wav_103.wav\n",
            "/content/data/silence/silence.wav_38.wav\n",
            "/content/data/silence/silence.wav_46.wav\n",
            "/content/data/silence/silence.wav_86.wav\n",
            "/content/data/silence/silence.wav_32.wav\n",
            "/content/data/silence/silence.wav_77.wav\n",
            "/content/data/silence/silence.wav_87.wav\n",
            "/content/data/silence/silence.wav_85.wav\n",
            "/content/data/silence/silence.wav_81.wav\n",
            "/content/data/silence/silence.wav_90.wav\n",
            "/content/data/silence/silence.wav_20.wav\n",
            "/content/data/silence/silence.wav_65.wav\n",
            "/content/data/silence/silence.wav_28.wav\n",
            "/content/data/silence/silence.wav_106.wav\n",
            "/content/data/silence/silence.wav_89.wav\n",
            "/content/data/silence/silence.wav_102.wav\n",
            "/content/data/silence/silence.wav_97.wav\n",
            "/content/data/silence/silence.wav_22.wav\n",
            "/content/data/silence/silence.wav_60.wav\n",
            "/content/data/silence/silence.wav_16.wav\n",
            "/content/data/silence/silence.wav_39.wav\n",
            "/content/data/silence/silence.wav_99.wav\n",
            "/content/data/silence/silence.wav_101.wav\n",
            "/content/data/silence/silence.wav_107.wav\n",
            "/content/data/silence/silence.wav_57.wav\n",
            "/content/data/silence/silence.wav_36.wav\n",
            "/content/data/silence/silence.wav_82.wav\n",
            "/content/data/silence/silence.wav_44.wav\n",
            "/content/data/silence/silence.wav_98.wav\n",
            "/content/data/silence/silence.wav_75.wav\n",
            "/content/data/silence/silence.wav_74.wav\n",
            "/content/data/silence/silence.wav_83.wav\n",
            "/content/data/silence/silence.wav_67.wav\n",
            "/content/data/silence/silence.wav_61.wav\n",
            "/content/data/silence/silence.wav_92.wav\n",
            "/content/data/silence/silence.wav_71.wav\n",
            "/content/data/silence/silence.wav_54.wav\n",
            "/content/data/silence/silence.wav_0.wav\n"
          ],
          "name": "stdout"
        }
      ]
    },
    {
      "cell_type": "code",
      "metadata": {
        "id": "TxmCkUEQlM3Q",
        "colab": {
          "base_uri": "https://localhost:8080/",
          "height": 185
        },
        "outputId": "29849184-85a8-4810-8bb3-25dfaf60687e"
      },
      "source": [
        "# Splitting the dataset into the Training set and Test set\n",
        "from sklearn.model_selection import train_test_split\n",
        "X_train, X_test, y_train, y_test = train_test_split(audios, labels_enc, test_size = 0.25, random_state = 0)\n"
      ],
      "execution_count": null,
      "outputs": [
        {
          "output_type": "error",
          "ename": "NameError",
          "evalue": "ignored",
          "traceback": [
            "\u001b[0;31m---------------------------------------------------------------------------\u001b[0m",
            "\u001b[0;31mNameError\u001b[0m                                 Traceback (most recent call last)",
            "\u001b[0;32m<ipython-input-3-2eb0536b559c>\u001b[0m in \u001b[0;36m<module>\u001b[0;34m()\u001b[0m\n\u001b[1;32m      1\u001b[0m \u001b[0;32mfrom\u001b[0m \u001b[0msklearn\u001b[0m\u001b[0;34m.\u001b[0m\u001b[0mmodel_selection\u001b[0m \u001b[0;32mimport\u001b[0m \u001b[0mtrain_test_split\u001b[0m\u001b[0;34m\u001b[0m\u001b[0;34m\u001b[0m\u001b[0m\n\u001b[0;32m----> 2\u001b[0;31m \u001b[0mX_train\u001b[0m\u001b[0;34m,\u001b[0m \u001b[0mX_test\u001b[0m\u001b[0;34m,\u001b[0m \u001b[0my_train\u001b[0m\u001b[0;34m,\u001b[0m \u001b[0my_test\u001b[0m \u001b[0;34m=\u001b[0m \u001b[0mtrain_test_split\u001b[0m\u001b[0;34m(\u001b[0m\u001b[0maudios\u001b[0m\u001b[0;34m,\u001b[0m \u001b[0mlabels_enc\u001b[0m\u001b[0;34m,\u001b[0m \u001b[0mtest_size\u001b[0m \u001b[0;34m=\u001b[0m \u001b[0;36m0.25\u001b[0m\u001b[0;34m,\u001b[0m \u001b[0mrandom_state\u001b[0m \u001b[0;34m=\u001b[0m \u001b[0;36m0\u001b[0m\u001b[0;34m)\u001b[0m\u001b[0;34m\u001b[0m\u001b[0;34m\u001b[0m\u001b[0m\n\u001b[0m",
            "\u001b[0;31mNameError\u001b[0m: name 'audios' is not defined"
          ]
        }
      ]
    },
    {
      "cell_type": "code",
      "metadata": {
        "id": "Co0aBdl2FFNr"
      },
      "source": [
        "# Feature Scaling\n",
        "from sklearn.preprocessing import StandardScaler\n",
        "sc = StandardScaler()\n",
        "X_train = sc.fit_transform(X_train)\n",
        "X_test = sc.transform(X_test)"
      ],
      "execution_count": null,
      "outputs": []
    },
    {
      "cell_type": "code",
      "metadata": {
        "id": "UTlE5I_xFMVV",
        "colab": {
          "base_uri": "https://localhost:8080/",
          "height": 332
        },
        "outputId": "39bbd841-6f10-4351-b684-2dc1f5a8a480"
      },
      "source": [
        "# Part 2 - Now let's make the ANN!\n",
        "\n",
        "# Importing the Keras libraries and packages\n",
        "import keras\n",
        "from keras.models import Sequential\n",
        "from keras.layers import Dense\n",
        "\n",
        "# Initialising the ANN\n",
        "classifier = Sequential()\n",
        "\n",
        "# Adding the input layer and the first hidden layer\n",
        "classifier.add(Dense( activation = 'relu', input_dim = 220500, units = 4, kernel_initializer = 'uniform'))\n",
        "\n",
        "# Adding the second hidden layer\n",
        "classifier.add(Dense( activation = 'relu', units = 8, kernel_initializer = 'uniform' ))\n",
        "\n",
        "\n",
        "# Adding the output layer\n",
        "classifier.add(Dense( activation = 'sigmoid', units = 2, kernel_initializer = 'uniform'))\n",
        "\n",
        "# Compiling the ANN\n",
        "classifier.compile(optimizer = 'adam', loss = 'binary_crossentropy', metrics = ['accuracy'])"
      ],
      "execution_count": null,
      "outputs": [
        {
          "output_type": "stream",
          "text": [
            "Using TensorFlow backend.\n"
          ],
          "name": "stderr"
        },
        {
          "output_type": "display_data",
          "data": {
            "text/html": [
              "<p style=\"color: red;\">\n",
              "The default version of TensorFlow in Colab will soon switch to TensorFlow 2.x.<br>\n",
              "We recommend you <a href=\"https://www.tensorflow.org/guide/migrate\" target=\"_blank\">upgrade</a> now \n",
              "or ensure your notebook will continue to use TensorFlow 1.x via the <code>%tensorflow_version 1.x</code> magic:\n",
              "<a href=\"https://colab.research.google.com/notebooks/tensorflow_version.ipynb\" target=\"_blank\">more info</a>.</p>\n"
            ],
            "text/plain": [
              "<IPython.core.display.HTML object>"
            ]
          },
          "metadata": {
            "tags": []
          }
        },
        {
          "output_type": "stream",
          "text": [
            "WARNING:tensorflow:From /usr/local/lib/python3.6/dist-packages/keras/backend/tensorflow_backend.py:66: The name tf.get_default_graph is deprecated. Please use tf.compat.v1.get_default_graph instead.\n",
            "\n",
            "WARNING:tensorflow:From /usr/local/lib/python3.6/dist-packages/keras/backend/tensorflow_backend.py:541: The name tf.placeholder is deprecated. Please use tf.compat.v1.placeholder instead.\n",
            "\n",
            "WARNING:tensorflow:From /usr/local/lib/python3.6/dist-packages/keras/backend/tensorflow_backend.py:4432: The name tf.random_uniform is deprecated. Please use tf.random.uniform instead.\n",
            "\n",
            "WARNING:tensorflow:From /usr/local/lib/python3.6/dist-packages/keras/optimizers.py:793: The name tf.train.Optimizer is deprecated. Please use tf.compat.v1.train.Optimizer instead.\n",
            "\n",
            "WARNING:tensorflow:From /usr/local/lib/python3.6/dist-packages/keras/backend/tensorflow_backend.py:3657: The name tf.log is deprecated. Please use tf.math.log instead.\n",
            "\n",
            "WARNING:tensorflow:From /usr/local/lib/python3.6/dist-packages/tensorflow_core/python/ops/nn_impl.py:183: where (from tensorflow.python.ops.array_ops) is deprecated and will be removed in a future version.\n",
            "Instructions for updating:\n",
            "Use tf.where in 2.0, which has the same broadcast rule as np.where\n"
          ],
          "name": "stdout"
        }
      ]
    },
    {
      "cell_type": "code",
      "metadata": {
        "id": "EcznEEkkFMgN",
        "colab": {
          "base_uri": "https://localhost:8080/",
          "height": 167
        },
        "outputId": "7b35833d-6107-4cd6-d00a-8409fc4e095b"
      },
      "source": [
        "# Fitting the ANN to the Training set\n",
        "classifier.fit(X_train, y_train, batch_size = 8, epochs = 50)\n"
      ],
      "execution_count": null,
      "outputs": [
        {
          "output_type": "error",
          "ename": "NameError",
          "evalue": "ignored",
          "traceback": [
            "\u001b[0;31m---------------------------------------------------------------------------\u001b[0m",
            "\u001b[0;31mNameError\u001b[0m                                 Traceback (most recent call last)",
            "\u001b[0;32m<ipython-input-2-4c6a366de43f>\u001b[0m in \u001b[0;36m<module>\u001b[0;34m()\u001b[0m\n\u001b[0;32m----> 1\u001b[0;31m \u001b[0mclassifier\u001b[0m\u001b[0;34m.\u001b[0m\u001b[0mfit\u001b[0m\u001b[0;34m(\u001b[0m\u001b[0mX_train\u001b[0m\u001b[0;34m,\u001b[0m \u001b[0my_train\u001b[0m\u001b[0;34m,\u001b[0m \u001b[0mbatch_size\u001b[0m \u001b[0;34m=\u001b[0m \u001b[0;36m8\u001b[0m\u001b[0;34m,\u001b[0m \u001b[0mepochs\u001b[0m \u001b[0;34m=\u001b[0m \u001b[0;36m50\u001b[0m\u001b[0;34m)\u001b[0m\u001b[0;34m\u001b[0m\u001b[0;34m\u001b[0m\u001b[0m\n\u001b[0m",
            "\u001b[0;31mNameError\u001b[0m: name 'X_train' is not defined"
          ]
        }
      ]
    },
    {
      "cell_type": "code",
      "metadata": {
        "id": "-C268MBcWY2I",
        "colab": {
          "base_uri": "https://localhost:8080/",
          "height": 357
        },
        "outputId": "3810d697-df32-4f58-b9e6-1ad994d40e50"
      },
      "source": [
        "# Part 3 - Making the predictions and evaluating the model\n",
        "\n",
        "# Predicting the Test set results\n",
        "y_pred = classifier.predict(X_test)\n",
        "print(y_pred[0:10])\n",
        "\n",
        "y_pred = (y_pred > 0.5)\n",
        "print(y_pred[0:10])\n",
        "\n",
        "# Making the Confusion Matrix\n",
        "from sklearn.metrics import confusion_matrix\n",
        "cm = confusion_matrix(y_test, y_pred)"
      ],
      "execution_count": null,
      "outputs": [
        {
          "output_type": "stream",
          "text": [
            "[[1.0000000e+00]\n",
            " [1.0000000e+00]\n",
            " [1.0000000e+00]\n",
            " [1.7583370e-06]\n",
            " [4.1723251e-07]\n",
            " [1.0000000e+00]\n",
            " [1.5348196e-05]\n",
            " [2.1755695e-06]\n",
            " [2.3841858e-07]\n",
            " [9.9999905e-01]]\n",
            "[[ True]\n",
            " [ True]\n",
            " [ True]\n",
            " [False]\n",
            " [False]\n",
            " [ True]\n",
            " [False]\n",
            " [False]\n",
            " [False]\n",
            " [ True]]\n"
          ],
          "name": "stdout"
        }
      ]
    },
    {
      "cell_type": "code",
      "metadata": {
        "id": "KTYDEI7IWojk",
        "colab": {
          "base_uri": "https://localhost:8080/",
          "height": 136
        },
        "outputId": "db01e64f-83d7-48de-bd94-7b43fd1a2e83"
      },
      "source": [
        "print(\"Matriz de Confusão:\")\n",
        "print(cm)\n",
        "print(\"Taxa de acerto:\")\n",
        "print((cm[0,0]+cm[1,1])/len(y_test) )\n",
        "print(len(y_test))\n"
      ],
      "execution_count": null,
      "outputs": [
        {
          "output_type": "stream",
          "text": [
            "Matriz de Confusão:\n",
            "[[26  0  0]\n",
            " [ 0 15  0]\n",
            " [ 0 32  0]]\n",
            "Taxa de acerto:\n",
            "0.5616438356164384\n",
            "73\n"
          ],
          "name": "stdout"
        }
      ]
    }
  ]
}